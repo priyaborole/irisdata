import pandas as pd
import numpy as np
import json
from sklearn.model_selection import train_test_split, GridSearchCV
from sklearn.ensemble import RandomForestRegressor
from sklearn.linear_model import LinearRegression
from sklearn.decomposition import PCA
from sklearn.pipeline import Pipeline
from sklearn.preprocessing import StandardScaler
from sklearn.impute import SimpleImputer
from sklearn.metrics import mean_squared_error, r2_score
with open('/content/algoparams_from_ui.json.json', 'r') as f:
  json_data = json.loads(f.read())
data = pd.read_csv('/content/iris.csv')
df = pd.read_csv('/content/iris.csv')
df
df.info()
df.describe()
data = {
    "target": {
        "prediction_type": "regression",
        "target": "petal_width",
        "type": "regression",
        "prediction_type": "regression"
    },
}
print(json_data)
dataset_path = json_data.get('dataset_path', '/path/to/iris.csv')
target_column = json_data.get('target_column', 'petal_width')
prediction_type = json_data.get('prediction_type', 'regression')
print("Dataset Path:", dataset_path)
print("Target Column:", target_column)
print("Prediction Type:", prediction_type)
print(json_data)
feature_handling = json_data.get('feature_handling', {})
for feature, config in feature_handling.items():
  if congig['is _selected']:
   if config['feature_variable_type'] == 'numerical' and config['feature_details']['missing_values'] == 'impute':
      strategy = 'mean' if config['feature_details']['input_with'] == 'average of values' else 'constant'
      fill_value = config['feature_details'].get('impute_value', 0)
      imputer = SimpleImputer(strategy=strategy, fill_value=fill_value)
      df[feature] = imputer.fit_transform(df[[feature]])
print(json_data)
X = df.drop(columns=[target_column, 'species'])
y = df[target_column]
X_train, X_test, Y_train, y_test = train_test_split(X, y, test_size=0.2, random_state=42)
#computing feature reduction
feature_reduction =json_data.get('feature_reduction', {})
feature_reduction_method = feature_reduction.get('feature_reduction_method')
if feature_reduction_method == 'PCA':
   pca = PCA(n_components=int(feature_reduction['num_of features']))
else:
  pca = 'passthrough'
algorithms =json_data.get('algorithms', {})
selected_algorithms ={k:v for k, v in algorithms.items()if v['is _selected']}
param_grid = {} 
param_grid = {}
for algo_name, algo_config in selected_algorithms.items():
    if algo_name == 'RandomForestRegressor':
        model = RandomForestRegressor() 
    
        param_grid = {
            'model_n_estimators': range(algo_config['min_trees'], algo_config['max_trees'] + 1, 10),
            'model_max_depth': range(algo_config['min_depth'], algo_config['max_depth'] + 1, 5),
        }
pipeline = Pipeline([
    ('scaler', StandardScaler()),
    ('dim_reduction', pca),
    ('model', RandomForestRegressor())
])
grid_search = GridSearchCV(pipeline, param_grid, cv=5, scoring='r2')
grid_search.fit(X_train, Y_train)
y_pred = grid_search.best_estimator_.predict(X_test)
print(f"Model: {RandomForestRegressor}")
print(f"Best Parameters: {grid_search.best_params_}")
print(f"r2 Score: {r2_score(y_test, y_pred)}")
print(f"r2 Score : {r2_score(y_test,y_pred):.4f}")
print(f"mse :{mean_squared_error(y_test,y_pred):.4f}\n")
